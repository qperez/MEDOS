{
 "cells": [
  {
   "cell_type": "code",
   "execution_count": 1,
   "metadata": {
    "pycharm": {
     "name": "#%%\n"
    }
   },
   "outputs": [],
   "source": [
    "import pickle\n",
    "import numpy as np\n",
    "import pandas as pd\n",
    "import shap\n",
    "from imblearn.over_sampling import KMeansSMOTE, SMOTE\n",
    "from sklearn.metrics import f1_score, recall_score, precision_score, classification_report, make_scorer, accuracy_score, \\\n",
    "    balanced_accuracy_score\n",
    "from sklearn.model_selection import GridSearchCV, StratifiedKFold, train_test_split\n",
    "from sklearn.neural_network import MLPClassifier\n",
    "from sklearn.linear_model import LogisticRegression\n",
    "from sklearn.neighbors import KNeighborsClassifier\n",
    "from sklearn.preprocessing import MinMaxScaler\n",
    "from sklearn.ensemble import RandomForestClassifier\n",
    "\n",
    "from matplotlib import pyplot as plt\n"
   ]
  },
  {
   "cell_type": "markdown",
   "metadata": {},
   "source": [
    "Drop unnecessary columns in the dataset."
   ]
  },
  {
   "cell_type": "code",
   "execution_count": 2,
   "metadata": {
    "pycharm": {
     "name": "#%%\n"
    }
   },
   "outputs": [],
   "source": [
    "def clean_dataframe(df):\n",
    "\n",
    "    df.drop(columns=['name', 'followers', 'commit_count_a', 'source', 'job', 'name_without_spaces',\n",
    "                     'project', 'index'], inplace=True)\n",
    "    \n",
    "    df.drop(columns=['AddSM','DelSM','ChurnSM',\"SumAddDelSM\"], inplace=True)\n",
    "    \n",
    "    for column in  df.columns:\n",
    "         if \"SumAddDel\" in column:\n",
    "            df.drop(columns=[column], inplace=True)\n",
    "\n",
    "\n",
    "    df['DiP'] = df['DiP'].round()\n",
    "    df['DiP'].replace(0, 1, inplace=True)"
   ]
  },
  {
   "cell_type": "markdown",
   "metadata": {},
   "source": [
    "Log columns in the dataset to reduce the skewness in data."
   ]
  },
  {
   "cell_type": "code",
   "execution_count": 3,
   "metadata": {
    "pycharm": {
     "name": "#%%\n"
    }
   },
   "outputs": [],
   "source": [
    "def log_dataframe(df):\n",
    "\n",
    "    #columns_4_log = ['SumAddDelLOC', 'DiP', 'NoC', 'SumAddDelF',\n",
    "    #                 'SumAddDelSAM', 'SumAddDelSM', 'AddLOC', 'DelLOC', 'AddSAM', 'DelSAM',\n",
    "    #                 'AddSM','DelSM']\n",
    "\n",
    "    columns_4_log = ['SumAddDelLOC', 'DiP', 'NoC', 'SumAddDelF',\n",
    "                     'SumAddDelSAM', 'AddLOC', 'DelLOC', 'AddSAM', 'DelSAM']\n",
    "\n",
    "\n",
    "    for column in columns_4_log:\n",
    "        df[column] = np.log(df[column] + 1)"
   ]
  },
  {
   "cell_type": "markdown",
   "metadata": {},
   "source": [
    "Returns labels (y)"
   ]
  },
  {
   "cell_type": "code",
   "execution_count": 4,
   "metadata": {
    "pycharm": {
     "name": "#%%\n"
    }
   },
   "outputs": [],
   "source": [
    "def get_labels(df):\n",
    "    df.loc[df['job'] == \"SA\", 'job'] = \"SSE\"\n",
    "    df.loc[df['job'] != \"SSE\", 'job'] = \"NSSE\"\n",
    "\n",
    "    return df[\"job\"]"
   ]
  },
  {
   "cell_type": "markdown",
   "metadata": {},
   "source": [
    "Scales data according to the scaler given as input"
   ]
  },
  {
   "cell_type": "code",
   "execution_count": 5,
   "metadata": {
    "pycharm": {
     "name": "#%%\n"
    }
   },
   "outputs": [],
   "source": [
    "def scaling(scaler, X):\n",
    "    return scaler.fit_transform(X)"
   ]
  },
  {
   "cell_type": "markdown",
   "metadata": {},
   "source": [
    "Creates synthetic data with original data using smote method."
   ]
  },
  {
   "cell_type": "code",
   "execution_count": 6,
   "metadata": {
    "pycharm": {
     "name": "#%%\n"
    }
   },
   "outputs": [],
   "source": [
    "def create_synthetic_data(smote, X_scaled, y):\n",
    "    return smote.fit_resample(X_scaled, y)"
   ]
  },
  {
   "cell_type": "markdown",
   "metadata": {},
   "source": [
    "Train the classifier with synthetic data an create a classification report on original data"
   ]
  },
  {
   "cell_type": "code",
   "execution_count": 7,
   "metadata": {
    "pycharm": {
     "name": "#%%\n"
    }
   },
   "outputs": [],
   "source": [
    "def train_and_classification_report(classifier, X_synthetic, y_synthetic, X_scaled, y):\n",
    "    classifier.fit(X_synthetic, y_synthetic)\n",
    "    print(classification_report(y, classifier.predict(X_scaled)))"
   ]
  },
  {
   "cell_type": "markdown",
   "metadata": {},
   "source": [
    "Scores the classifier using a k-fold (here a Stratified 4-fold with shuffle)\n",
    "Synthetic data are created to train the classifier for each fold.\n",
    "Real data are used to compute measures for the classifier."
   ]
  },
  {
   "cell_type": "code",
   "execution_count": 8,
   "metadata": {
    "pycharm": {
     "name": "#%%\n"
    }
   },
   "outputs": [],
   "source": [
    "def stratifiedKFold_scoring(classifier, X, y, smote = None):\n",
    "    kf = StratifiedKFold(n_splits=4, shuffle=False)#, random_state=0)\n",
    "    print(\"===> Start kfold <===\")\n",
    "    scores = {\"F1\": {\"values\" : []}, \"Recall\": {\"values\" : []},\n",
    "              \"Precision\": {\"values\" : []}, \"Balanced\\nAccuracy\" : {\"values\" : []}}\n",
    "\n",
    "    for fold, (train_index, test_index) in enumerate(kf.split(X, y), 1):\n",
    "        print(\"=> Fold : \",fold)\n",
    "        #print(\"TRAIN:\", train_index, \"TEST:\", test_index)\n",
    "        \n",
    "        if isinstance(X, np.ndarray):\n",
    "            X_train = X[train_index]\n",
    "            y_train = y[train_index]\n",
    "            X_test = X[test_index]\n",
    "            y_test = y[test_index]\n",
    "        elif isinstance(X, pd.core.frame.DataFrame):\n",
    "            X_train = X.iloc[train_index]\n",
    "            y_train = y.iloc[train_index]\n",
    "            X_test = X.iloc[test_index]\n",
    "            y_test = y.iloc[test_index]\n",
    "        else : \n",
    "            raise Exception(\"X should be a Pandas Dataframe of Numpy N dim Array\")\n",
    "\n",
    "        if smote is not None:\n",
    "            print(\"smote\")\n",
    "            X_train_synthetic, y_train_synthetic = smote.fit_resample(X_train, y_train)\n",
    "            classifier.fit(X_train_synthetic, y_train_synthetic)\n",
    "        else:\n",
    "            classifier.fit(X_train, y_train)\n",
    "        y_pred = classifier.predict(X_test)\n",
    "\n",
    "        f1 = f1_score(y_test, y_pred, pos_label=\"SSE\")\n",
    "        recall = recall_score(y_test, y_pred, pos_label=\"SSE\")\n",
    "        precision = precision_score(y_test, y_pred, pos_label=\"SSE\")\n",
    "        accuracy = balanced_accuracy_score(y_test, y_pred)\n",
    "\n",
    "        scores[\"F1\"][\"values\"].append(f1)\n",
    "        scores[\"Recall\"][\"values\"].append(recall)\n",
    "        scores[\"Precision\"][\"values\"].append(precision)\n",
    "        scores[\"Balanced\\nAccuracy\"][\"values\"].append(accuracy)\n",
    "\n",
    "    for key in scores:\n",
    "        scores[key][\"values\"] = np.array(scores[key][\"values\"])\n",
    "        scores[key][\"mean\"] = np.mean(scores[key][\"values\"])\n",
    "        scores[key][\"std\"] = np.std(scores[key][\"values\"])\n",
    "        scores[key][\"ci95\"] = np.std(scores[key][\"values\"]) * 2\n",
    "\n",
    "        print(key, \"mean :%0.4f\" % scores[key][\"mean\"])\n",
    "        print(key, \"std : %0.4f\" % scores[key][\"std\"])\n",
    "        print(key, \"95%% Confidence Interval +/- %0.4f\" % (scores[key][\"ci95\"]))\n",
    "        print(\"\")\n",
    "    return scores\n"
   ]
  },
  {
   "cell_type": "code",
   "execution_count": 9,
   "metadata": {
    "pycharm": {
     "name": "#%%\n"
    }
   },
   "outputs": [],
   "source": [
    "scaler = MinMaxScaler(feature_range=(-1,1))\n",
    "smote = KMeansSMOTE(sampling_strategy='minority', random_state=9090)\n",
    "classifier = KNeighborsClassifier(algorithm='ball_tree', n_neighbors=4, p=1, weights='distance')"
   ]
  },
  {
   "cell_type": "markdown",
   "metadata": {},
   "source": [
    "Setting 1:\n",
    "* kNN classifier by default\n",
    "* No log transformation\n",
    "* No scaling\n",
    "* No data over-sampling"
   ]
  },
  {
   "cell_type": "code",
   "execution_count": 10,
   "metadata": {
    "pycharm": {
     "name": "#%%\n"
    }
   },
   "outputs": [
    {
     "name": "stdout",
     "output_type": "stream",
     "text": [
      "===> Start kfold <===\n",
      "=> Fold :  1\n",
      "=> Fold :  2\n",
      "=> Fold :  3\n",
      "=> Fold :  4\n",
      "F1 mean :0.7601\n",
      "F1 std : 0.0285\n",
      "F1 95% Confidence Interval +/- 0.0571\n",
      "\n",
      "Recall mean :0.6829\n",
      "Recall std : 0.0489\n",
      "Recall 95% Confidence Interval +/- 0.0978\n",
      "\n",
      "Precision mean :0.8608\n",
      "Precision std : 0.0312\n",
      "Precision 95% Confidence Interval +/- 0.0625\n",
      "\n",
      "Balanced\n",
      "Accuracy mean :0.8324\n",
      "Balanced\n",
      "Accuracy std : 0.0229\n",
      "Balanced\n",
      "Accuracy 95% Confidence Interval +/- 0.0459\n",
      "\n"
     ]
    },
    {
     "data": {
      "text/html": [
       "<div>\n",
       "<style scoped>\n",
       "    .dataframe tbody tr th:only-of-type {\n",
       "        vertical-align: middle;\n",
       "    }\n",
       "\n",
       "    .dataframe tbody tr th {\n",
       "        vertical-align: top;\n",
       "    }\n",
       "\n",
       "    .dataframe thead th {\n",
       "        text-align: right;\n",
       "    }\n",
       "</style>\n",
       "<table border=\"1\" class=\"dataframe\">\n",
       "  <thead>\n",
       "    <tr style=\"text-align: right;\">\n",
       "      <th></th>\n",
       "      <th>feature</th>\n",
       "      <th>importance</th>\n",
       "    </tr>\n",
       "  </thead>\n",
       "  <tbody>\n",
       "    <tr>\n",
       "      <th>15</th>\n",
       "      <td>churnLOC</td>\n",
       "      <td>0.138166</td>\n",
       "    </tr>\n",
       "    <tr>\n",
       "      <th>13</th>\n",
       "      <td>AddLOC</td>\n",
       "      <td>0.108535</td>\n",
       "    </tr>\n",
       "    <tr>\n",
       "      <th>2</th>\n",
       "      <td>NoNAB</td>\n",
       "      <td>0.094855</td>\n",
       "    </tr>\n",
       "    <tr>\n",
       "      <th>6</th>\n",
       "      <td>NonCE</td>\n",
       "      <td>0.087144</td>\n",
       "    </tr>\n",
       "    <tr>\n",
       "      <th>16</th>\n",
       "      <td>AddF</td>\n",
       "      <td>0.073445</td>\n",
       "    </tr>\n",
       "    <tr>\n",
       "      <th>14</th>\n",
       "      <td>DelLOC</td>\n",
       "      <td>0.070294</td>\n",
       "    </tr>\n",
       "    <tr>\n",
       "      <th>4</th>\n",
       "      <td>NoCnII</td>\n",
       "      <td>0.047870</td>\n",
       "    </tr>\n",
       "    <tr>\n",
       "      <th>17</th>\n",
       "      <td>DelF</td>\n",
       "      <td>0.043676</td>\n",
       "    </tr>\n",
       "    <tr>\n",
       "      <th>5</th>\n",
       "      <td>NoCE</td>\n",
       "      <td>0.042460</td>\n",
       "    </tr>\n",
       "    <tr>\n",
       "      <th>3</th>\n",
       "      <td>NoCII</td>\n",
       "      <td>0.040505</td>\n",
       "    </tr>\n",
       "    <tr>\n",
       "      <th>9</th>\n",
       "      <td>AddLGM</td>\n",
       "      <td>0.033299</td>\n",
       "    </tr>\n",
       "    <tr>\n",
       "      <th>21</th>\n",
       "      <td>DiP</td>\n",
       "      <td>0.032147</td>\n",
       "    </tr>\n",
       "    <tr>\n",
       "      <th>12</th>\n",
       "      <td>NoMGM</td>\n",
       "      <td>0.031677</td>\n",
       "    </tr>\n",
       "    <tr>\n",
       "      <th>0</th>\n",
       "      <td>NoC</td>\n",
       "      <td>0.026600</td>\n",
       "    </tr>\n",
       "    <tr>\n",
       "      <th>11</th>\n",
       "      <td>ChurnGM</td>\n",
       "      <td>0.024444</td>\n",
       "    </tr>\n",
       "    <tr>\n",
       "      <th>22</th>\n",
       "      <td>ICT</td>\n",
       "      <td>0.023939</td>\n",
       "    </tr>\n",
       "    <tr>\n",
       "      <th>7</th>\n",
       "      <td>NoInEI</td>\n",
       "      <td>0.018201</td>\n",
       "    </tr>\n",
       "    <tr>\n",
       "      <th>1</th>\n",
       "      <td>NoAB</td>\n",
       "      <td>0.013802</td>\n",
       "    </tr>\n",
       "    <tr>\n",
       "      <th>8</th>\n",
       "      <td>NoIEI</td>\n",
       "      <td>0.013727</td>\n",
       "    </tr>\n",
       "    <tr>\n",
       "      <th>10</th>\n",
       "      <td>DelLGM</td>\n",
       "      <td>0.012676</td>\n",
       "    </tr>\n",
       "    <tr>\n",
       "      <th>18</th>\n",
       "      <td>AddSAM</td>\n",
       "      <td>0.009484</td>\n",
       "    </tr>\n",
       "    <tr>\n",
       "      <th>20</th>\n",
       "      <td>ChurnSAM</td>\n",
       "      <td>0.008186</td>\n",
       "    </tr>\n",
       "    <tr>\n",
       "      <th>19</th>\n",
       "      <td>DelSAM</td>\n",
       "      <td>0.004868</td>\n",
       "    </tr>\n",
       "  </tbody>\n",
       "</table>\n",
       "</div>"
      ],
      "text/plain": [
       "     feature  importance\n",
       "15  churnLOC    0.138166\n",
       "13    AddLOC    0.108535\n",
       "2      NoNAB    0.094855\n",
       "6      NonCE    0.087144\n",
       "16      AddF    0.073445\n",
       "14    DelLOC    0.070294\n",
       "4     NoCnII    0.047870\n",
       "17      DelF    0.043676\n",
       "5       NoCE    0.042460\n",
       "3      NoCII    0.040505\n",
       "9     AddLGM    0.033299\n",
       "21       DiP    0.032147\n",
       "12     NoMGM    0.031677\n",
       "0        NoC    0.026600\n",
       "11   ChurnGM    0.024444\n",
       "22       ICT    0.023939\n",
       "7     NoInEI    0.018201\n",
       "1       NoAB    0.013802\n",
       "8      NoIEI    0.013727\n",
       "10    DelLGM    0.012676\n",
       "18    AddSAM    0.009484\n",
       "20  ChurnSAM    0.008186\n",
       "19    DelSAM    0.004868"
      ]
     },
     "execution_count": 10,
     "metadata": {},
     "output_type": "execute_result"
    }
   ],
   "source": [
    "classifier = KNeighborsClassifier()\n",
    "classifier = RandomForestClassifier(random_state=0)\n",
    "\n",
    "df = pd.read_csv(\"merged_2_annotated.csv\")\n",
    "y = get_labels(df)\n",
    "\n",
    "clean_dataframe(df)\n",
    "\n",
    "X = df\n",
    "\n",
    "scores_setting_1 = stratifiedKFold_scoring(classifier,X,y)\n",
    "\n",
    "classifier.fit(X,y)\n",
    "# check Important features\n",
    "feature_importances_df = pd.DataFrame(\n",
    "    {\"feature\": list(X.columns), \"importance\": classifier.feature_importances_}\n",
    ").sort_values(\"importance\", ascending=False)\n",
    "\n",
    "# Display\n",
    "feature_importances_df"
   ]
  },
  {
   "cell_type": "markdown",
   "metadata": {},
   "source": [
    "Setting 2:\n",
    "* kNN classifier by default\n",
    "* No log transformation\n",
    "* No data over-sampling"
   ]
  },
  {
   "cell_type": "code",
   "execution_count": 11,
   "metadata": {
    "pycharm": {
     "name": "#%%\n"
    }
   },
   "outputs": [
    {
     "name": "stdout",
     "output_type": "stream",
     "text": [
      "Index(['NoC', 'NoAB', 'NoNAB', 'NoCII', 'NoCnII', 'NoCE', 'NonCE', 'NoInEI',\n",
      "       'NoIEI', 'AddLGM', 'DelLGM', 'ChurnGM', 'NoMGM', 'AddLOC', 'DelLOC',\n",
      "       'churnLOC', 'AddF', 'DelF', 'AddSAM', 'DelSAM', 'ChurnSAM', 'DiP',\n",
      "       'ICT'],\n",
      "      dtype='object')\n",
      "===> Start kfold <===\n",
      "=> Fold :  1\n",
      "=> Fold :  2\n",
      "=> Fold :  3\n",
      "=> Fold :  4\n",
      "F1 mean :0.7591\n",
      "F1 std : 0.0229\n",
      "F1 95% Confidence Interval +/- 0.0458\n",
      "\n",
      "Recall mean :0.6933\n",
      "Recall std : 0.0389\n",
      "Recall 95% Confidence Interval +/- 0.0777\n",
      "\n",
      "Precision mean :0.8412\n",
      "Precision std : 0.0327\n",
      "Precision 95% Confidence Interval +/- 0.0654\n",
      "\n",
      "Balanced\n",
      "Accuracy mean :0.8359\n",
      "Balanced\n",
      "Accuracy std : 0.0182\n",
      "Balanced\n",
      "Accuracy 95% Confidence Interval +/- 0.0363\n",
      "\n"
     ]
    }
   ],
   "source": [
    "scaler = MinMaxScaler(feature_range=(-1,1))\n",
    "classifier = KNeighborsClassifier()\n",
    "classifier = RandomForestClassifier(criterion='gini', max_depth=None, max_features='log2', random_state=0, n_estimators=75)\n",
    "\n",
    "\n",
    "df = pd.read_csv(\"merged_2_annotated.csv\")\n",
    "y = get_labels(df)\n",
    "\n",
    "#log_dataframe(df)\n",
    "clean_dataframe(df)\n",
    "\n",
    "X = df\n",
    "#X_scaled = scaling(scaler, X)\n",
    "print(df.columns)\n",
    "\n",
    "scores_setting_2 = stratifiedKFold_scoring(classifier,X,y)"
   ]
  },
  {
   "cell_type": "markdown",
   "metadata": {
    "pycharm": {
     "name": "#%% md\n"
    }
   },
   "source": [
    "Setting 3:\n",
    "* kNN classifier by default\n",
    "* Log transformation\n",
    "* No data over-sampling"
   ]
  },
  {
   "cell_type": "code",
   "execution_count": 12,
   "metadata": {
    "pycharm": {
     "name": "#%%\n"
    }
   },
   "outputs": [
    {
     "name": "stdout",
     "output_type": "stream",
     "text": [
      "===> Start kfold <===\n",
      "=> Fold :  1\n",
      "=> Fold :  2\n",
      "=> Fold :  3\n",
      "=> Fold :  4\n",
      "F1 mean :0.7654\n",
      "F1 std : 0.0555\n",
      "F1 95% Confidence Interval +/- 0.1111\n",
      "\n",
      "Recall mean :0.7033\n",
      "Recall std : 0.0633\n",
      "Recall 95% Confidence Interval +/- 0.1267\n",
      "\n",
      "Precision mean :0.8411\n",
      "Precision std : 0.0549\n",
      "Precision 95% Confidence Interval +/- 0.1098\n",
      "\n",
      "Balanced\n",
      "Accuracy mean :0.8409\n",
      "Balanced\n",
      "Accuracy std : 0.0339\n",
      "Balanced\n",
      "Accuracy 95% Confidence Interval +/- 0.0678\n",
      "\n"
     ]
    }
   ],
   "source": [
    "scaler = MinMaxScaler(feature_range=(-1,1))\n",
    "classifier = KNeighborsClassifier()\n",
    "classifier = RandomForestClassifier(criterion='gini', max_depth=None, max_features='log2', random_state=0, n_estimators=75)\n",
    "\n",
    "\n",
    "df = pd.read_csv(\"merged_2_annotated.csv\")\n",
    "y = get_labels(df)\n",
    "\n",
    "log_dataframe(df)\n",
    "clean_dataframe(df)\n",
    "\n",
    "X = df\n",
    "X_scaled = scaling(scaler, X)\n",
    "\n",
    "scores_setting_3 = stratifiedKFold_scoring(classifier,X_scaled,y)"
   ]
  },
  {
   "cell_type": "markdown",
   "metadata": {},
   "source": [
    "Setting 4:\n",
    "* kNN classifier optimized by Grid-Search\n",
    "* Log transformation\n",
    "* No data over-sampling"
   ]
  },
  {
   "cell_type": "code",
   "execution_count": 13,
   "metadata": {
    "pycharm": {
     "name": "#%%\n"
    }
   },
   "outputs": [
    {
     "name": "stdout",
     "output_type": "stream",
     "text": [
      "===> Start kfold <===\n",
      "=> Fold :  1\n",
      "=> Fold :  2\n",
      "=> Fold :  3\n",
      "=> Fold :  4\n",
      "F1 mean :0.7654\n",
      "F1 std : 0.0555\n",
      "F1 95% Confidence Interval +/- 0.1111\n",
      "\n",
      "Recall mean :0.7033\n",
      "Recall std : 0.0633\n",
      "Recall 95% Confidence Interval +/- 0.1267\n",
      "\n",
      "Precision mean :0.8411\n",
      "Precision std : 0.0549\n",
      "Precision 95% Confidence Interval +/- 0.1098\n",
      "\n",
      "Balanced\n",
      "Accuracy mean :0.8409\n",
      "Balanced\n",
      "Accuracy std : 0.0339\n",
      "Balanced\n",
      "Accuracy 95% Confidence Interval +/- 0.0678\n",
      "\n"
     ]
    }
   ],
   "source": [
    "scaler = MinMaxScaler(feature_range=(-1,1))\n",
    "classifier = KNeighborsClassifier(algorithm='ball_tree', n_neighbors=4, p=1, weights='distance')\n",
    "classifier = RandomForestClassifier(criterion='gini', max_depth=None, max_features='log2', random_state=0, n_estimators=75)\n",
    "\n",
    "df = pd.read_csv(\"merged_2_annotated.csv\")\n",
    "y = get_labels(df)\n",
    "\n",
    "log_dataframe(df)\n",
    "clean_dataframe(df)\n",
    "\n",
    "X = df\n",
    "X_scaled = scaling(scaler, X)\n",
    "\n",
    "scores_setting_4 = stratifiedKFold_scoring(classifier,X_scaled,y)\n"
   ]
  },
  {
   "cell_type": "markdown",
   "metadata": {},
   "source": [
    "Setting 5:\n",
    "* kNN classifier optimized by Grid-Search\n",
    "* Log transformation\n",
    "* Data over-sampling"
   ]
  },
  {
   "cell_type": "code",
   "execution_count": 14,
   "metadata": {
    "pycharm": {
     "name": "#%%\n"
    }
   },
   "outputs": [
    {
     "name": "stdout",
     "output_type": "stream",
     "text": [
      "===> Start kfold <===\n",
      "=> Fold :  1\n",
      "smote\n",
      "=> Fold :  2\n",
      "smote\n",
      "=> Fold :  3\n",
      "smote\n",
      "=> Fold :  4\n",
      "smote\n",
      "F1 mean :0.7887\n",
      "F1 std : 0.0265\n",
      "F1 95% Confidence Interval +/- 0.0529\n",
      "\n",
      "Recall mean :0.7446\n",
      "Recall std : 0.0354\n",
      "Recall 95% Confidence Interval +/- 0.0708\n",
      "\n",
      "Precision mean :0.8390\n",
      "Precision std : 0.0219\n",
      "Precision 95% Confidence Interval +/- 0.0438\n",
      "\n",
      "Balanced\n",
      "Accuracy mean :0.8607\n",
      "Balanced\n",
      "Accuracy std : 0.0182\n",
      "Balanced\n",
      "Accuracy 95% Confidence Interval +/- 0.0364\n",
      "\n"
     ]
    }
   ],
   "source": [
    "scaler = MinMaxScaler(feature_range=(-1,1))\n",
    "smote = KMeansSMOTE(sampling_strategy='minority', random_state=9090)\n",
    "#classifier = KNeighborsClassifier(algorithm='ball_tree', n_neighbors=4, p=1, weights='distance')\n",
    "#classifier = RandomForestClassifier(criterion='gini', max_depth=None, max_features='log2', n_estimators=150, random_state=9090)\n",
    "#classifier = RandomForestClassifier(random_state=0)\n",
    "classifier = RandomForestClassifier(criterion='gini', max_depth=None, max_features='log2', random_state=0, n_estimators=75)\n",
    "\n",
    "\n",
    "df = pd.read_csv(\"merged_2_annotated.csv\")\n",
    "y = get_labels(df)\n",
    "\n",
    "\n",
    "log_dataframe(df)\n",
    "clean_dataframe(df)\n",
    "\n",
    "X = df\n",
    "X_scaled = scaling(scaler, X)\n",
    "#X_scaled = X\n",
    "scores_setting_5 = stratifiedKFold_scoring(classifier,X_scaled,y,smote)\n",
    "pickle.dump(classifier, open(\"classifier_rf_model.pkl\", 'wb'))\n",
    "\n",
    "#print(scores_setting_5)"
   ]
  },
  {
   "cell_type": "code",
   "execution_count": 15,
   "metadata": {
    "pycharm": {
     "name": "#%%\n"
    }
   },
   "outputs": [
    {
     "data": {
      "image/png": "[encoded data removed]",
      "text/plain": [
       "<Figure size 1440x864 with 4 Axes>"
      ]
     },
     "metadata": {
      "needs_background": "light"
     },
     "output_type": "display_data"
    }
   ],
   "source": [
    "fig, axs = plt.subplots(2, 2, figsize=(20, 12))\n",
    "\n",
    "scores_settings = [scores_setting_1, scores_setting_2, scores_setting_4,scores_setting_5]\n",
    "#scores_settings = [scores_setting_1, scores_setting_2, scores_setting_3,scores_setting_4, scores_setting_5]\n",
    "\n",
    "\n",
    "labels = ['Setting 1', 'Setting 2', 'Setting 3', 'Setting 4']\n",
    "#labels = ['Config 1', 'Config 2', 'Config 3', 'Config 4', 'Config 5']\n",
    "\n",
    "xtick_size = 18\n",
    "label_size = 18\n",
    "\n",
    "bars= []\n",
    "metrics = {\"F1\":\"F1-mesure\", \"Recall\":\"Rappel\", \n",
    "           \"Precision\":\"Précision\", \"Balanced\\nAccuracy\":\"Accuracy\"}\n",
    "metrics = {\"F1\":\"F1 measure\", \"Recall\":\"Recall\", \n",
    "           \"Precision\":\"Precision\", \"Balanced\\nAccuracy\":\"Accuracy\"}\n",
    "#colors=['#4b51d1','#694BD2', '#AE13A6', '#E60080', '#F70069']\n",
    "colors=['#694BD2', '#AE13A6', '#E60080', '#F70069']\n",
    "\n",
    "# \"nice\" if is_nice else \"not nice\"\n",
    "bar_index = 0\n",
    "for scores_setting in scores_settings :\n",
    "    j = 0\n",
    "    for metric in list(metrics.keys()):\n",
    "        results = scores_setting[metric]\n",
    "\n",
    "        n = len(labels)-4\n",
    "        index = np.arange(0, n * 2.0, 2.0)\n",
    "        bar_width = 0.45\n",
    "        opacity = 0.7\n",
    "        x = 1 if j > 1 else 0\n",
    "        y = j % 2\n",
    "\n",
    "        axs[x, y].grid(b=True, which='major', linestyle='-', zorder=0)\n",
    "        bars.append(axs[x, y].bar(bar_index, results[\"mean\"],\n",
    "                              bar_width,\n",
    "                              yerr=results[\"ci95\"], capsize=7, edgecolor='black',\n",
    "                              alpha=opacity, zorder=3, color=colors[bar_index])) #, , label=project[3:4], zorder=3))\n",
    "\n",
    "        # ax.set_xlabel('Settings')\n",
    "        axs[x, y].set_ylabel(metrics[metric], fontsize=label_size)\n",
    "        # axs[x, y].set_ylabel(metric, fontsize=label_size)\n",
    "        axs[x, y].set_ylim(0.50,1.05)\n",
    "\n",
    "        # ax.set_title('Milan v/s Inter v/s Juventus')\n",
    "        axs[x, y].set_xticks(index + bar_width + 0.25)\n",
    "        axs[x, y].set_yticks(np.arange(0.50, 1.02, 0.05))\n",
    "        axs[x, y].set_xticks(range(0, len(labels)))\n",
    "        axs[x, y].set_xticklabels(labels)\n",
    "        axs[x, y].tick_params(axis='both', which='major', labelsize=xtick_size)\n",
    "        #axs[x, y].tick_params(axis='both', which='minor', labelsize=16)\n",
    "        #axs[x, y].legend(ncol=1)\n",
    "        #plt.setp(axs[x, y].get_legend().get_texts(), fontsize='18')\n",
    "\n",
    "        j += 1\n",
    "    bar_index += 1\n",
    "\n",
    "plt.show()\n"
   ]
  },
  {
   "cell_type": "code",
   "execution_count": null,
   "metadata": {
    "pycharm": {
     "name": "#%%\n"
    }
   },
   "outputs": [],
   "source": []
  },
  {
   "cell_type": "code",
   "execution_count": null,
   "metadata": {},
   "outputs": [],
   "source": []
  }
 ],
 "metadata": {
  "kernelspec": {
   "display_name": "Python 3",
   "language": "python",
   "name": "python3"
  },
  "language_info": {
   "codemirror_mode": {
    "name": "ipython",
    "version": 3
   },
   "file_extension": ".py",
   "mimetype": "text/x-python",
   "name": "python",
   "nbconvert_exporter": "python",
   "pygments_lexer": "ipython3",
   "version": "3.9.5"
  }
 },
 "nbformat": 4,
 "nbformat_minor": 1
}