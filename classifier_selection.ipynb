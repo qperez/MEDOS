{
 "cells": [
  {
   "cell_type": "code",
   "execution_count": 2,
   "metadata": {
    "pycharm": {
     "is_executing": true
    }
   },
   "outputs": [],
   "source": [
    "import numpy as np\n",
    "import pandas as pd\n",
    "from imblearn.over_sampling import KMeansSMOTE\n",
    "from imblearn.pipeline import Pipeline\n",
    "from sklearn.ensemble import RandomForestClassifier\n",
    "from sklearn.linear_model import LogisticRegression, SGDClassifier\n",
    "from sklearn.metrics import f1_score, recall_score, precision_score, classification_report, make_scorer\n",
    "from sklearn.model_selection import StratifiedKFold, GridSearchCV\n",
    "from sklearn.neighbors import KNeighborsClassifier\n",
    "from sklearn.neural_network import MLPClassifier\n",
    "from sklearn.preprocessing import MinMaxScaler"
   ]
  },
  {
   "cell_type": "markdown",
   "metadata": {},
   "source": [
    "Drop unnecessary columns in the dataset."
   ]
  },
  {
   "cell_type": "code",
   "execution_count": 21,
   "metadata": {
    "pycharm": {
     "is_executing": true,
     "name": "#%%\n"
    }
   },
   "outputs": [],
   "source": [
    "from sklearn.svm import SVC, LinearSVC\n",
    "def clean_dataframe(df):\n",
    "\n",
    "    df.drop(columns=['name', 'followers', 'commit_count_a', 'source', 'job', 'name_without_spaces',\n",
    "                     'project', 'index'], inplace=True)\n",
    "\n",
    "    df.drop(columns=['AddSM','DelSM','ChurnSM',\"SumAddDelSM\"], inplace=True)\n",
    "    \n",
    "    for column in  df.columns:\n",
    "        if \"SumAddDel\" in column:\n",
    "            df.drop(columns=[column], inplace=True)\n",
    "\n",
    "\n",
    "    df['DiP'] = df['DiP'].round()\n",
    "    df['DiP'].replace(0, 1, inplace=True)\n"
   ]
  },
  {
   "cell_type": "markdown",
   "metadata": {},
   "source": [
    "Log columns in the dataset to reduce the skewness in data."
   ]
  },
  {
   "cell_type": "code",
   "execution_count": 22,
   "metadata": {
    "pycharm": {
     "is_executing": true,
     "name": "#%%\n"
    }
   },
   "outputs": [],
   "source": [
    "def log_dataframe(df):\n",
    "\n",
    "    columns_4_log = ['SumAddDelLOC', 'DiP', 'NoC', 'SumAddDelF',\n",
    "                     'SumAddDelSAM', 'AddLOC', 'DelLOC', 'AddSAM', 'DelSAM']\n",
    "\n",
    "\n",
    "    for column in columns_4_log:\n",
    "        df[column] = np.log(df[column] + 1)"
   ]
  },
  {
   "cell_type": "markdown",
   "metadata": {},
   "source": [
    "Returns labels (y)"
   ]
  },
  {
   "cell_type": "code",
   "execution_count": 5,
   "metadata": {
    "pycharm": {
     "is_executing": true,
     "name": "#%%\n"
    }
   },
   "outputs": [],
   "source": [
    "def get_labels(df):\n",
    "    df.loc[df['job'] == \"SA\", 'job'] = \"SSE\"\n",
    "    df.loc[df['job'] != \"SSE\", 'job'] = \"NSSE\"\n",
    "\n",
    "    return df[\"job\"]"
   ]
  },
  {
   "cell_type": "markdown",
   "metadata": {},
   "source": [
    "Scales data according to the scaler given as input"
   ]
  },
  {
   "cell_type": "code",
   "execution_count": 6,
   "metadata": {
    "pycharm": {
     "is_executing": true,
     "name": "#%%\n"
    }
   },
   "outputs": [],
   "source": [
    "def scaling(scaler, X):\n",
    "    return scaler.fit_transform(X)"
   ]
  },
  {
   "cell_type": "markdown",
   "metadata": {},
   "source": [
    "Train the classifier with synthetic data an create a classification report on original data"
   ]
  },
  {
   "cell_type": "code",
   "execution_count": 7,
   "metadata": {
    "pycharm": {
     "is_executing": true,
     "name": "#%%\n"
    }
   },
   "outputs": [],
   "source": [
    "def train_and_classification_report(classifier, X_synthetic, y_synthetic, X_scaled, y):\n",
    "    classifier.fit(X_synthetic, y_synthetic)\n",
    "    print(classification_report(y, classifier.predict(X_scaled)))"
   ]
  },
  {
   "cell_type": "markdown",
   "metadata": {},
   "source": [
    "Scores the classifier using a k-fold (here a Stratified 4-fold with shuffle)\n",
    "Synthetic data are created to train the classifier for each fold.\n",
    "Real data are used to compute measures for the classifier."
   ]
  },
  {
   "cell_type": "code",
   "execution_count": 8,
   "metadata": {
    "pycharm": {
     "is_executing": true,
     "name": "#%%\n"
    }
   },
   "outputs": [],
   "source": [
    "def grid_search_logistic_regression(X_scaled, y, smote, kf):\n",
    "    pipe = Pipeline([\n",
    "        ('sampling', smote),\n",
    "        ('classif', LogisticRegression(max_iter=2000, solver='sag')),\n",
    "    ])\n",
    "    custom_scorer = make_scorer(f1_score, greater_is_better=True, pos_label=\"SSE\")\n",
    "\n",
    "    search = GridSearchCV(\n",
    "            estimator=pipe,\n",
    "            param_grid={\n",
    "                'classif__tol': [1e-4, 1e-3, 1e-2, 1e-1],\n",
    "                'classif__C': [x for x in np.arange(0.05, 1, 0.05)],\n",
    "                'classif__solver': ['newton-cg', 'lbfgs', 'sag', 'saga'],\n",
    "                'classif__random_state' : [0,42,9090]\n",
    "            }, cv=kf, scoring=custom_scorer, n_jobs=-1,refit=True)\n",
    "\n",
    "    search.fit(X_scaled, y)\n",
    "    print(\"Best CV score=%0.4f:\" % search.best_score_)\n",
    "    print(\"Best CI 95=%0.4f\" % (2*search.cv_results_['std_test_score'][search.best_index_]))\n",
    "    print(search.best_params_)"
   ]
  },
  {
   "cell_type": "code",
   "execution_count": 9,
   "metadata": {
    "pycharm": {
     "is_executing": true,
     "name": "#%%\n"
    }
   },
   "outputs": [],
   "source": [
    "def grid_search_svc(X_scaled, y, smote, kf):\n",
    "    pipe = Pipeline([\n",
    "        ('sampling', smote),\n",
    "        ('classif', SVC()),\n",
    "    ])\n",
    "    custom_scorer = make_scorer(f1_score, greater_is_better=True, pos_label=\"SSE\")\n",
    "\n",
    "    search = GridSearchCV(\n",
    "        estimator=pipe,\n",
    "        param_grid={\n",
    "            'classif__tol': [1e-4, 1e-3, 1e-2, 1e-5, 1e-1],\n",
    "            'classif__C': [0.1, 0.2, 0.3, 0.4, 0.5, 0.6, 0.7, 0.8, 0.9],\n",
    "            'classif__gamma': ['scale', 'auto'],\n",
    "            'classif__kernel' : ['linear','sigmoid','rbf','poly'],\n",
    "            'classif__random_state' : [0,42,9090]\n",
    "        }, cv=kf, scoring=custom_scorer, n_jobs=-1)\n",
    "    search.fit(X_scaled, y)\n",
    "    print(\"Best CV score=%0.4f:\" % search.best_score_)\n",
    "    print(\"Best CI 95=%0.4f\" % (2*search.cv_results_['std_test_score'][search.best_index_]))\n",
    "    print(search.best_params_)"
   ]
  },
  {
   "cell_type": "code",
   "execution_count": 10,
   "metadata": {
    "pycharm": {
     "is_executing": true,
     "name": "#%%\n"
    }
   },
   "outputs": [],
   "source": [
    "def grid_search_linear_MLP(X_scaled, y, smote, kf):\n",
    "    pipe = Pipeline([\n",
    "        ('sampling', smote),\n",
    "        ('classif', MLPClassifier(max_iter=2000)),\n",
    "    ])\n",
    "    custom_scorer = make_scorer(f1_score, greater_is_better=True, pos_label=\"SSE\")\n",
    "\n",
    "    search = GridSearchCV(\n",
    "        estimator=pipe,\n",
    "        param_grid={\n",
    "            'classif__activation': ['identity', 'logistic', 'tanh', 'relu'],\n",
    "            'classif__solver':['lbfgs','sgd','adam'],\n",
    "            'classif__learning_rate': ['constant', 'invscaling', 'adaptive'],\n",
    "             'classif__hidden_layer_sizes' : [(100,),(50,50,),(10,30,10)],\n",
    "            'classif__random_state' : [0]\n",
    "        }, cv=kf, scoring=custom_scorer, n_jobs=-1)\n",
    "    search.fit(X_scaled, y)\n",
    "    print(\"Best CV score=%0.4f:\" % search.best_score_)\n",
    "    print(\"Best CI 95=%0.4f\" % (2*search.cv_results_['std_test_score'][search.best_index_]))\n",
    "    print(search.best_params_)"
   ]
  },
  {
   "cell_type": "code",
   "execution_count": 15,
   "metadata": {
    "pycharm": {
     "is_executing": true,
     "name": "#%%\n"
    }
   },
   "outputs": [],
   "source": [
    "def grid_search_random_forest(X_scaled, y, smote, kf):\n",
    "    pipe = Pipeline([\n",
    "        ('sampling', smote),\n",
    "        ('classif', RandomForestClassifier()),\n",
    "    ])\n",
    "    custom_scorer = make_scorer(f1_score, greater_is_better=True, pos_label=\"SSE\")\n",
    "\n",
    "    search = GridSearchCV(\n",
    "        estimator=pipe,\n",
    "        param_grid={\n",
    "            'classif__criterion': [\"gini\",\"entropy\"],\n",
    "            'classif__max_features':[\"auto\",\"sqrt\",\"log2\"],\n",
    "            'classif__n_estimators':[50, 75 ,100, 200, 300],\n",
    "            'classif__random_state' : [0,42]\n",
    "        }, cv=kf, scoring=custom_scorer, n_jobs=-1)\n",
    "    search.fit(X_scaled, y)\n",
    "    print(\"Best CV score=%0.4f:\" % search.best_score_)\n",
    "    print(\"Best CI 95=%0.4f\" % (2*search.cv_results_['std_test_score'][search.best_index_]))\n",
    "    print(search.best_params_)"
   ]
  },
  {
   "cell_type": "code",
   "execution_count": 16,
   "metadata": {
    "pycharm": {
     "is_executing": true,
     "name": "#%%\n"
    }
   },
   "outputs": [],
   "source": [
    "def grid_search_knn(X_scaled, y, smote, kf):\n",
    "    pipe = Pipeline([\n",
    "        ('sampling', smote),\n",
    "        ('classif', KNeighborsClassifier()),\n",
    "    ])\n",
    "    custom_scorer = make_scorer(f1_score, greater_is_better=True, pos_label=\"SSE\")\n",
    "\n",
    "    search = GridSearchCV(\n",
    "        estimator=pipe,\n",
    "        param_grid={\n",
    "            'classif__weights': [\"uniform\",\"distance\"],\n",
    "            'classif__algorithm':[\"ball_tree\",\"kb_tree\",\"brute\"],\n",
    "            'classif__p':[1, 2],\n",
    "            'classif__n_neighbors': [4,5,6],\n",
    "        }, cv=kf, scoring=custom_scorer, n_jobs=-1)\n",
    "    search.fit(X_scaled, y)\n",
    "    print(\"Best CV score=%0.4f:\" % search.best_score_)\n",
    "    print(\"Best CI 95=%0.4f\" % (2*search.cv_results_['std_test_score'][search.best_index_]))\n",
    "    print(search.best_params_)"
   ]
  },
  {
   "cell_type": "code",
   "execution_count": 17,
   "metadata": {
    "pycharm": {
     "is_executing": true,
     "name": "#%%\n"
    }
   },
   "outputs": [],
   "source": [
    "def grid_search_sgd(X_scaled, y, smote, kf):\n",
    "    pipe = Pipeline([\n",
    "        ('sampling', smote),\n",
    "        ('classif', SGDClassifier(max_iter=2000, random_state=0, eta0=1)),\n",
    "    ])\n",
    "    custom_scorer = make_scorer(f1_score, greater_is_better=True, pos_label=\"SSE\")\n",
    "\n",
    "    search = GridSearchCV(\n",
    "        estimator=pipe,\n",
    "        param_grid={\n",
    "            'classif__loss': [\"hinge\",\"log\",\"modified_huber\",\"squared_hinge\"],\n",
    "            'classif__learning_rate':[\"constant\",\"optimal\",\"invscaling\",\"adaptive\"],\n",
    "            'classif__alpha':[0.0001, 0.001, 0.01, 0.1],\n",
    "            'classif__tol': [1e-4,1e-3,1e-2,1e-1],\n",
    "        }, cv=kf, scoring=custom_scorer, n_jobs=-1)\n",
    "    search.fit(X_scaled, y)\n",
    "    print(\"Best CV score=%0.4f:\" % search.best_score_)\n",
    "    print(\"Best CI 95=%0.4f\" % (2*search.cv_results_['std_test_score'][search.best_index_]))\n",
    "    print(search.best_params_)"
   ]
  },
  {
   "cell_type": "code",
   "execution_count": 23,
   "metadata": {
    "pycharm": {
     "is_executing": true,
     "name": "#%%\n"
    }
   },
   "outputs": [],
   "source": [
    "df = pd.read_csv(\"merged_2_annotated.csv\")\n",
    "y = get_labels(df)\n",
    "\n",
    "log_dataframe(df)\n",
    "clean_dataframe(df)\n",
    "X = df\n",
    "\n",
    "scaler = MinMaxScaler(feature_range=(-1,1))\n",
    "kf = StratifiedKFold(n_splits=4)\n",
    "smote = KMeansSMOTE(sampling_strategy='minority', n_jobs=-1, random_state=9090)\n",
    "\n",
    "X_scaled = scaling(scaler, X)"
   ]
  },
  {
   "cell_type": "code",
   "execution_count": 24,
   "metadata": {
    "pycharm": {
     "is_executing": true,
     "name": "#%%\n"
    }
   },
   "outputs": [
    {
     "name": "stdout",
     "output_type": "stream",
     "text": [
      "Best CV score=0.7638:\n",
      "Best CI 95=0.0645\n",
      "{'classif__C': 0.9000000000000001, 'classif__random_state': 9090, 'classif__solver': 'sag', 'classif__tol': 0.1}\n"
     ]
    }
   ],
   "source": [
    "grid_search_logistic_regression(X_scaled, y, smote, kf)"
   ]
  },
  {
   "cell_type": "code",
   "execution_count": 25,
   "metadata": {
    "pycharm": {
     "is_executing": true,
     "name": "#%%\n"
    }
   },
   "outputs": [
    {
     "name": "stdout",
     "output_type": "stream",
     "text": [
      "Best CV score=0.7703:\n",
      "Best CI 95=0.0921\n",
      "{'classif__C': 0.7, 'classif__gamma': 'scale', 'classif__kernel': 'poly', 'classif__random_state': 0, 'classif__tol': 0.0001}\n"
     ]
    }
   ],
   "source": [
    "grid_search_svc(X_scaled, y, smote, kf)"
   ]
  },
  {
   "cell_type": "code",
   "execution_count": 26,
   "metadata": {
    "pycharm": {
     "is_executing": true,
     "name": "#%%\n"
    }
   },
   "outputs": [
    {
     "name": "stdout",
     "output_type": "stream",
     "text": [
      "Best CV score=0.7717:\n",
      "Best CI 95=0.0426\n",
      "{'classif__activation': 'tanh', 'classif__hidden_layer_sizes': (50, 50), 'classif__learning_rate': 'constant', 'classif__random_state': 0, 'classif__solver': 'adam'}\n"
     ]
    }
   ],
   "source": [
    "grid_search_linear_MLP(X_scaled, y, smote, kf)"
   ]
  },
  {
   "cell_type": "code",
   "execution_count": 27,
   "metadata": {
    "pycharm": {
     "is_executing": true
    }
   },
   "outputs": [
    {
     "name": "stdout",
     "output_type": "stream",
     "text": [
      "Best CV score=0.7887:\n",
      "Best CI 95=0.0529\n",
      "{'classif__criterion': 'gini', 'classif__max_features': 'auto', 'classif__n_estimators': 75, 'classif__random_state': 0}\n"
     ]
    }
   ],
   "source": [
    "grid_search_random_forest(X_scaled, y, smote, kf)"
   ]
  },
  {
   "cell_type": "code",
   "execution_count": 16,
   "metadata": {
    "pycharm": {
     "is_executing": true
    }
   },
   "outputs": [
    {
     "name": "stderr",
     "output_type": "stream",
     "text": [
      "/home/qperez/EDFtest/venv/lib/python3.7/site-packages/sklearn/model_selection/_search.py:921: UserWarning: One or more of the test scores are non-finite: [0.76339286 0.75876635 0.76292517 0.76273551 0.75709486 0.75280193\n",
      " 0.75608155 0.75608155 0.75927198 0.76546501 0.75443921 0.76726308\n",
      "        nan        nan        nan        nan        nan        nan\n",
      "        nan        nan        nan        nan        nan        nan\n",
      " 0.76339286 0.75876635 0.76292517 0.76273551 0.75709486 0.75280193\n",
      " 0.75608155 0.75608155 0.75927198 0.76546501 0.75443921 0.76726308]\n",
      "  category=UserWarning\n"
     ]
    },
    {
     "name": "stdout",
     "output_type": "stream",
     "text": [
      "Best CV score=0.7673:\n",
      "Best CI 95=0.0726\n",
      "{'classif__algorithm': 'ball_tree', 'classif__n_neighbors': 6, 'classif__p': 2, 'classif__weights': 'distance'}\n"
     ]
    }
   ],
   "source": [
    "grid_search_knn(X_scaled, y, smote, kf)"
   ]
  },
  {
   "cell_type": "code",
   "execution_count": 19,
   "metadata": {
    "pycharm": {
     "is_executing": true,
     "name": "#%%\n"
    }
   },
   "outputs": [
    {
     "name": "stdout",
     "output_type": "stream",
     "text": [
      "Best CV score=0.7749:\n",
      "Best CI 95=0.0573\n",
      "{'classif__alpha': 0.1, 'classif__learning_rate': 'invscaling', 'classif__loss': 'modified_huber', 'classif__tol': 0.1}\n"
     ]
    }
   ],
   "source": [
    "grid_search_sgd(X_scaled, y, smote, kf)"
   ]
  },
  {
   "cell_type": "code",
   "execution_count": null,
   "metadata": {
    "pycharm": {
     "name": "#%%\n"
    }
   },
   "outputs": [],
   "source": []
  },
  {
   "cell_type": "code",
   "execution_count": null,
   "metadata": {},
   "outputs": [],
   "source": []
  }
 ],
 "metadata": {
  "kernelspec": {
   "display_name": "Python 3",
   "language": "python",
   "name": "python3"
  },
  "language_info": {
   "codemirror_mode": {
    "name": "ipython",
    "version": 3
   },
   "file_extension": ".py",
   "mimetype": "text/x-python",
   "name": "python",
   "nbconvert_exporter": "python",
   "pygments_lexer": "ipython3",
   "version": "3.9.5"
  }
 },
 "nbformat": 4,
 "nbformat_minor": 1
}